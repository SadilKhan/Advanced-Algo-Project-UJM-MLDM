{
 "cells": [
  {
   "cell_type": "code",
   "execution_count": 1,
   "metadata": {
    "execution": {
     "iopub.execute_input": "2020-11-06T09:48:51.295183Z",
     "iopub.status.busy": "2020-11-06T09:48:51.294317Z",
     "iopub.status.idle": "2020-11-06T09:48:56.795585Z",
     "shell.execute_reply": "2020-11-06T09:48:56.794750Z",
     "shell.execute_reply.started": "2020-11-06T09:48:51.295015Z"
    }
   },
   "outputs": [],
   "source": [
    "import numpy as np\n",
    "import pandas as pd\n",
    "import requests\n",
    "import io"
   ]
  },
  {
   "cell_type": "code",
   "execution_count": null,
   "metadata": {
    "execution": {
     "iopub.status.busy": "2020-11-06T09:40:01.923137Z",
     "iopub.status.idle": "2020-11-06T09:40:01.923839Z"
    }
   },
   "outputs": [],
   "source": [
    "url=\"http://forge.info.univ-angers.fr/~gh/Shspdb/output/fasta_1604232766.txt\"\n",
    "s=requests.get(url)\n",
    "text=[i.split('\\n') for i in s.text.split('\\n\\n')]\n",
    "text=[''.join(i[1:])[:-1] for i in text]\n",
    "protein=pd.DataFrame(text)\n",
    "\n",
    "protein.to_csv('protein.csv',index=False)"
   ]
  },
  {
   "cell_type": "code",
   "execution_count": 2,
   "metadata": {
    "execution": {
     "iopub.execute_input": "2020-11-06T09:49:08.765381Z",
     "iopub.status.busy": "2020-11-06T09:49:08.764726Z",
     "iopub.status.idle": "2020-11-06T09:49:08.939589Z",
     "shell.execute_reply": "2020-11-06T09:49:08.938051Z",
     "shell.execute_reply.started": "2020-11-06T09:49:08.765303Z"
    }
   },
   "outputs": [],
   "source": [
    "protein =pd.read_csv('protein.csv')"
   ]
  },
  {
   "cell_type": "code",
   "execution_count": 3,
   "metadata": {
    "execution": {
     "iopub.execute_input": "2020-11-06T09:49:15.235726Z",
     "iopub.status.busy": "2020-11-06T09:49:15.235241Z",
     "iopub.status.idle": "2020-11-06T09:49:15.328584Z",
     "shell.execute_reply": "2020-11-06T09:49:15.325971Z",
     "shell.execute_reply.started": "2020-11-06T09:49:15.235674Z"
    }
   },
   "outputs": [
    {
     "data": {
      "text/html": [
       "<div>\n",
       "<style scoped>\n",
       "    .dataframe tbody tr th:only-of-type {\n",
       "        vertical-align: middle;\n",
       "    }\n",
       "\n",
       "    .dataframe tbody tr th {\n",
       "        vertical-align: top;\n",
       "    }\n",
       "\n",
       "    .dataframe thead th {\n",
       "        text-align: right;\n",
       "    }\n",
       "</style>\n",
       "<table border=\"1\" class=\"dataframe\">\n",
       "  <thead>\n",
       "    <tr style=\"text-align: right;\">\n",
       "      <th></th>\n",
       "      <th>0</th>\n",
       "    </tr>\n",
       "  </thead>\n",
       "  <tbody>\n",
       "    <tr>\n",
       "      <th>0</th>\n",
       "      <td>MSIVRRSNVFDPFADLWADPFDTFRSIVPAISGGGSETAAFANARM...</td>\n",
       "    </tr>\n",
       "    <tr>\n",
       "      <th>1</th>\n",
       "      <td>TVQTSKNPQVDIAEDNAFFPSEYSLSQYTSPVSDLDGVDYPKPYRG...</td>\n",
       "    </tr>\n",
       "    <tr>\n",
       "      <th>2</th>\n",
       "      <td>MGHHHHHHSHMRKIDLCLSSEGSEVILATSSDEKHPPENIIDGNPE...</td>\n",
       "    </tr>\n",
       "    <tr>\n",
       "      <th>3</th>\n",
       "      <td>MQLSSGVSEIRHTADRWRVSLDVNHFAPDELTVKTKDGVVEITGKH...</td>\n",
       "    </tr>\n",
       "    <tr>\n",
       "      <th>4</th>\n",
       "      <td>GAMAQVPTDPGYFSVLLDVKHFSPEEISVKVVGDHVEVHARHEERP...</td>\n",
       "    </tr>\n",
       "  </tbody>\n",
       "</table>\n",
       "</div>"
      ],
      "text/plain": [
       "                                                   0\n",
       "0  MSIVRRSNVFDPFADLWADPFDTFRSIVPAISGGGSETAAFANARM...\n",
       "1  TVQTSKNPQVDIAEDNAFFPSEYSLSQYTSPVSDLDGVDYPKPYRG...\n",
       "2  MGHHHHHHSHMRKIDLCLSSEGSEVILATSSDEKHPPENIIDGNPE...\n",
       "3  MQLSSGVSEIRHTADRWRVSLDVNHFAPDELTVKTKDGVVEITGKH...\n",
       "4  GAMAQVPTDPGYFSVLLDVKHFSPEEISVKVVGDHVEVHARHEERP..."
      ]
     },
     "execution_count": 3,
     "metadata": {},
     "output_type": "execute_result"
    }
   ],
   "source": [
    "protein.head()"
   ]
  },
  {
   "cell_type": "code",
   "execution_count": 6,
   "metadata": {
    "execution": {
     "iopub.execute_input": "2020-11-06T09:50:40.760058Z",
     "iopub.status.busy": "2020-11-06T09:50:40.759275Z",
     "iopub.status.idle": "2020-11-06T09:50:40.770125Z",
     "shell.execute_reply": "2020-11-06T09:50:40.767504Z",
     "shell.execute_reply.started": "2020-11-06T09:50:40.759898Z"
    }
   },
   "outputs": [],
   "source": [
    "A=\"abcdef\"\n",
    "B=\"ab\""
   ]
  },
  {
   "cell_type": "code",
   "execution_count": 242,
   "metadata": {
    "execution": {
     "iopub.execute_input": "2020-11-02T08:33:26.682739Z",
     "iopub.status.busy": "2020-11-02T08:33:26.682211Z",
     "iopub.status.idle": "2020-11-02T08:33:26.691235Z",
     "shell.execute_reply": "2020-11-02T08:33:26.688908Z",
     "shell.execute_reply.started": "2020-11-02T08:33:26.682675Z"
    }
   },
   "outputs": [],
   "source": [
    "A=protein.iloc[0].values[0]\n",
    "B=protein.iloc[1].values[0]"
   ]
  },
  {
   "cell_type": "markdown",
   "metadata": {},
   "source": [
    "# Dynamic Programming\n",
    "\n",
    "Space Complexity O(mn)"
   ]
  },
  {
   "cell_type": "code",
   "execution_count": 4,
   "metadata": {
    "execution": {
     "iopub.execute_input": "2020-11-06T09:50:36.167094Z",
     "iopub.status.busy": "2020-11-06T09:50:36.166820Z",
     "iopub.status.idle": "2020-11-06T09:50:36.209567Z",
     "shell.execute_reply": "2020-11-06T09:50:36.208087Z",
     "shell.execute_reply.started": "2020-11-06T09:50:36.167062Z"
    }
   },
   "outputs": [
    {
     "name": "stdout",
     "output_type": "stream",
     "text": [
      "CPU times: user 5 µs, sys: 1e+03 ns, total: 6 µs\n",
      "Wall time: 11.2 µs\n"
     ]
    }
   ],
   "source": [
    "%time\n",
    "def ed_dp(A,B):\n",
    "    \"\"\"\n",
    "    Minimum Edit Distance ( Classical Algorithm/ Dynamic Programming )\n",
    "    A ----> Initial State\n",
    "    B ----> Goal State   \n",
    "    \"\"\"\n",
    "    m=len(A)\n",
    "    n=len(B)\n",
    "    \n",
    "    c=np.zeros(shape=(m+1,n+1))\n",
    "    d=[[None for i in range(n+1)] for i in range(m+1)]\n",
    "    \n",
    "    for i in range(m+1):\n",
    "        c[i,0]=i\n",
    "        if i==0:\n",
    "            d[0][0]='0'\n",
    "        else:\n",
    "            d[i][0]=A[i-1]\n",
    "    for i in range(n+1):\n",
    "        c[0,i]=i\n",
    "        if i==0:\n",
    "            d[0][0]='0'\n",
    "        else:\n",
    "            d[0][i]=B[i-1]\n",
    "    \n",
    "    for i in range(1,m+1):\n",
    "        for j in range(1,n+1):\n",
    "            k=min([c[i-1,j-1],c[i-1,j],c[i,j-1]])\n",
    "            if k==c[i-1][j-1]:\n",
    "                d[i][j]=\"`\"\n",
    "            elif k==c[i-1][j]:\n",
    "                d[i][j]=\"^\"\n",
    "            else:\n",
    "                d[i][j]=\"<\"\n",
    "            \n",
    "            \n",
    "            if A[i-1]==B[j-1]:\n",
    "                c[i][j]=k\n",
    "            else:\n",
    "                c[i][j]=k+1\n",
    "                if k==c[i-1][j-1]:\n",
    "                    d[i][j]=\"s\"\n",
    "    print(f\"No of Changes {c[-1][-1]}\")\n",
    "    return c,d\n",
    "\n",
    "def get_alignment(A,B,d):\n",
    "    m=len(d)\n",
    "    n=len(d[0])-1\n",
    "    i=m-1\n",
    "    while i>0:\n",
    "        if d[i][n]=='s':\n",
    "            print(f'Subsititute {A[i-1],i-1} with {B[n-1]}')\n",
    "            n-=1\n",
    "            i-=1\n",
    "        elif d[i][n]=='^':\n",
    "            print(f'Delete {A[i-1],i-1}')\n",
    "            i-=1\n",
    "        elif d[i][n]==\"<\":\n",
    "            print(f'Add {B[n-1]} between {A[i-1],i-1} and {A[i],i}')\n",
    "            n-=1\n",
    "        elif d[i][n]=='`':\n",
    "            n-=1\n",
    "            i-=1"
   ]
  },
  {
   "cell_type": "code",
   "execution_count": 7,
   "metadata": {
    "execution": {
     "iopub.execute_input": "2020-11-06T09:50:44.244842Z",
     "iopub.status.busy": "2020-11-06T09:50:44.244494Z",
     "iopub.status.idle": "2020-11-06T09:50:44.250037Z",
     "shell.execute_reply": "2020-11-06T09:50:44.249228Z",
     "shell.execute_reply.started": "2020-11-06T09:50:44.244801Z"
    }
   },
   "outputs": [
    {
     "data": {
      "text/plain": [
       "'abcdef'"
      ]
     },
     "execution_count": 7,
     "metadata": {},
     "output_type": "execute_result"
    }
   ],
   "source": [
    "A"
   ]
  },
  {
   "cell_type": "code",
   "execution_count": 8,
   "metadata": {
    "execution": {
     "iopub.execute_input": "2020-11-06T09:50:44.712072Z",
     "iopub.status.busy": "2020-11-06T09:50:44.711737Z",
     "iopub.status.idle": "2020-11-06T09:50:44.737228Z",
     "shell.execute_reply": "2020-11-06T09:50:44.735516Z",
     "shell.execute_reply.started": "2020-11-06T09:50:44.712034Z"
    }
   },
   "outputs": [
    {
     "name": "stdout",
     "output_type": "stream",
     "text": [
      "No of Changes 3.0\n"
     ]
    },
    {
     "data": {
      "text/plain": [
       "(array([[0., 1., 2., 3., 4., 5., 6., 7., 8.],\n",
       "        [1., 0., 1., 2., 3., 4., 5., 6., 7.],\n",
       "        [2., 1., 1., 2., 2., 3., 4., 5., 6.],\n",
       "        [3., 2., 2., 2., 3., 3., 4., 5., 6.],\n",
       "        [4., 3., 3., 3., 3., 4., 3., 4., 5.],\n",
       "        [5., 4., 3., 4., 4., 4., 4., 3., 4.],\n",
       "        [6., 5., 4., 4., 5., 5., 5., 4., 3.]]),\n",
       " [['0', 'S', 'a', 't', 'u', 'r', 'd', 'a', 'y'],\n",
       "  ['S', '`', '<', '<', '<', '<', '<', '<', '<'],\n",
       "  ['u', '^', 's', 's', '`', '<', '<', '<', '<'],\n",
       "  ['n', '^', 's', 's', 's', 's', 's', 's', 's'],\n",
       "  ['d', '^', 's', 's', 's', 's', '`', '<', '<'],\n",
       "  ['a', '^', '`', 's', 's', 's', '^', '`', '<'],\n",
       "  ['y', '^', '^', 's', 's', 's', 's', '^', '`']])"
      ]
     },
     "execution_count": 8,
     "metadata": {},
     "output_type": "execute_result"
    }
   ],
   "source": [
    "ed_dp('Sunday','Saturday')"
   ]
  },
  {
   "cell_type": "code",
   "execution_count": 9,
   "metadata": {
    "execution": {
     "iopub.execute_input": "2020-11-06T09:51:11.617510Z",
     "iopub.status.busy": "2020-11-06T09:51:11.616864Z",
     "iopub.status.idle": "2020-11-06T09:51:11.625636Z",
     "shell.execute_reply": "2020-11-06T09:51:11.624388Z",
     "shell.execute_reply.started": "2020-11-06T09:51:11.617432Z"
    }
   },
   "outputs": [
    {
     "name": "stdout",
     "output_type": "stream",
     "text": [
      "No of Changes 3.0\n",
      "Subsititute ('n', 2) with r\n",
      "Add t between ('S', 0) and ('u', 1)\n",
      "Add a between ('S', 0) and ('u', 1)\n"
     ]
    }
   ],
   "source": [
    "get_alignment('Sunday','Saturday',ed_dp('Sunday','Saturday')[1])"
   ]
  },
  {
   "cell_type": "code",
   "execution_count": 247,
   "metadata": {
    "execution": {
     "iopub.execute_input": "2020-11-02T08:33:29.929393Z",
     "iopub.status.busy": "2020-11-02T08:33:29.928750Z",
     "iopub.status.idle": "2020-11-02T08:33:30.121043Z",
     "shell.execute_reply": "2020-11-02T08:33:30.120042Z",
     "shell.execute_reply.started": "2020-11-02T08:33:29.929316Z"
    }
   },
   "outputs": [
    {
     "name": "stdout",
     "output_type": "stream",
     "text": [
      "CPU times: user 7 µs, sys: 1 µs, total: 8 µs\n",
      "Wall time: 13.6 µs\n",
      "No of Changes 208.0\n",
      "Subsititute ('S', 149) with A\n",
      "Subsititute ('I', 148) with Y\n",
      "Subsititute ('Q', 147) with A\n",
      "Delete ('I', 146)\n",
      "Subsititute ('K', 144) with L\n",
      "Subsititute ('V', 143) with M\n",
      "Subsititute ('P', 141) with Q\n",
      "Subsititute ('K', 140) with A\n",
      "Add A between ('K', 139) and ('K', 140)\n",
      "Add L between ('K', 139) and ('K', 140)\n",
      "Subsititute ('V', 138) with G\n",
      "Subsititute ('E', 137) with L\n",
      "Add A between ('A', 136) and ('E', 137)\n",
      "Add N between ('A', 136) and ('E', 137)\n",
      "Add A between ('A', 136) and ('E', 137)\n",
      "Subsititute ('K', 135) with F\n",
      "Subsititute ('V', 133) with S\n",
      "Subsititute ('T', 132) with D\n",
      "Subsititute ('V', 131) with G\n",
      "Add L between ('L', 129) and ('T', 130)\n",
      "Add K between ('V', 128) and ('L', 129)\n",
      "Add R between ('V', 128) and ('L', 129)\n",
      "Add D between ('V', 128) and ('L', 129)\n",
      "Add K between ('V', 128) and ('L', 129)\n",
      "Add H between ('V', 128) and ('L', 129)\n",
      "Add R between ('G', 127) and ('V', 128)\n",
      "Add T between ('N', 126) and ('G', 127)\n",
      "Add I between ('N', 126) and ('G', 127)\n",
      "Add D between ('N', 126) and ('G', 127)\n",
      "Add D between ('N', 126) and ('G', 127)\n",
      "Subsititute ('E', 125) with I\n",
      "Subsititute ('L', 124) with I\n",
      "Add N between ('G', 123) and ('L', 124)\n",
      "Add M between ('G', 123) and ('L', 124)\n",
      "Subsititute ('A', 122) with M\n",
      "Add K between ('K', 121) and ('A', 122)\n",
      "Subsititute ('V', 120) with L\n",
      "Subsititute ('V', 117) with G\n",
      "Subsititute ('K', 116) with F\n",
      "Subsititute ('A', 115) with Y\n",
      "Subsititute ('D', 114) with W\n",
      "Subsititute ('E', 113) with T\n",
      "Subsititute ('L', 111) with H\n",
      "Subsititute ('R', 110) with G\n",
      "Subsititute ('F', 109) with P\n",
      "Subsititute ('R', 108) with M\n",
      "Subsititute ('R', 107) with Y\n",
      "Subsititute ('V', 106) with G\n",
      "Subsititute ('F', 105) with I\n",
      "Add E between ('K', 104) and ('F', 105)\n",
      "Add P between ('K', 104) and ('F', 105)\n",
      "Add T between ('K', 104) and ('F', 105)\n",
      "Add Q between ('K', 104) and ('F', 105)\n",
      "Subsititute ('G', 103) with D\n",
      "Subsititute ('S', 102) with A\n",
      "Subsititute ('S', 101) with A\n",
      "Subsititute ('R', 100) with D\n",
      "Subsititute ('E', 99) with P\n",
      "Subsititute ('V', 98) with F\n",
      "Subsititute ('R', 97) with A\n",
      "Subsititute ('H', 96) with C\n",
      "Subsititute ('W', 95) with I\n",
      "Subsititute ('K', 94) with S\n",
      "Subsititute ('D', 93) with Y\n",
      "Add G between ('N', 92) and ('D', 93)\n",
      "Subsititute ('K', 91) with L\n",
      "Add P between ('D', 90) and ('K', 91)\n",
      "Add N between ('D', 90) and ('K', 91)\n",
      "Subsititute ('E', 89) with G\n",
      "Subsititute ('K', 88) with H\n",
      "Subsititute ('E', 87) with R\n",
      "Subsititute ('K', 86) with L\n",
      "Subsititute ('T', 85) with A\n",
      "Subsititute ('R', 84) with L\n",
      "Subsititute ('E', 83) with F\n",
      "Add A between ('G', 82) and ('E', 83)\n",
      "Add A between ('G', 82) and ('E', 83)\n",
      "Add P between ('G', 82) and ('E', 83)\n",
      "Add H between ('S', 81) and ('G', 82)\n",
      "Add C between ('S', 81) and ('G', 82)\n",
      "Add L between ('S', 81) and ('G', 82)\n",
      "Subsititute ('V', 80) with I\n",
      "Subsititute ('L', 78) with F\n",
      "Subsititute ('V', 77) with R\n",
      "Add D between ('N', 76) and ('V', 77)\n",
      "Subsititute ('G', 75) with K\n",
      "Subsititute ('D', 74) with I\n",
      "Subsititute ('E', 73) with A\n",
      "Subsititute ('V', 72) with W\n",
      "Subsititute ('E', 71) with Q\n",
      "Subsititute ('V', 70) with L\n",
      "Subsititute ('K', 69) with A\n",
      "Add A between ('V', 68) and ('K', 69)\n",
      "Add A between ('V', 68) and ('K', 69)\n",
      "Subsititute ('E', 67) with D\n",
      "Subsititute ('E', 66) with Q\n",
      "Subsititute ('K', 65) with S\n",
      "Subsititute ('K', 64) with E\n",
      "Subsititute ('V', 63) with P\n",
      "Add L between ('G', 62) and ('V', 63)\n",
      "Add G between ('G', 62) and ('V', 63)\n",
      "Add I between ('G', 62) and ('V', 63)\n",
      "Add L between ('G', 62) and ('V', 63)\n",
      "Add A between ('G', 62) and ('V', 63)\n",
      "Add G between ('G', 62) and ('V', 63)\n",
      "Add H between ('G', 62) and ('V', 63)\n",
      "Add G between ('G', 62) and ('V', 63)\n",
      "Subsititute ('L', 60) with V\n",
      "Subsititute ('D', 59) with F\n",
      "Add I between ('A', 58) and ('D', 59)\n",
      "Add A between ('A', 58) and ('D', 59)\n",
      "Add A between ('A', 58) and ('D', 59)\n",
      "Add Y between ('A', 58) and ('D', 59)\n",
      "Add E between ('A', 58) and ('D', 59)\n",
      "Add S between ('A', 58) and ('D', 59)\n",
      "Add D between ('A', 58) and ('D', 59)\n",
      "Add A between ('A', 58) and ('D', 59)\n",
      "Add N between ('A', 58) and ('D', 59)\n",
      "Add L between ('A', 58) and ('D', 59)\n",
      "Add S between ('A', 58) and ('D', 59)\n",
      "Add A between ('A', 58) and ('D', 59)\n",
      "Add V between ('A', 58) and ('D', 59)\n",
      "Add V between ('A', 58) and ('D', 59)\n",
      "Add D between ('A', 58) and ('D', 59)\n",
      "Add L between ('K', 57) and ('A', 58)\n",
      "Add K between ('K', 57) and ('A', 58)\n",
      "Add P between ('F', 56) and ('K', 57)\n",
      "Add N between ('F', 56) and ('K', 57)\n",
      "Add R between ('F', 56) and ('K', 57)\n",
      "Subsititute ('V', 55) with L\n",
      "Add S between ('H', 54) and ('V', 55)\n",
      "Add K between ('H', 54) and ('V', 55)\n",
      "Subsititute ('A', 53) with Q\n",
      "Add F between ('P', 51) and ('E', 52)\n",
      "Add F between ('P', 51) and ('E', 52)\n",
      "Subsititute ('T', 50) with M\n",
      "Subsititute ('E', 49) with V\n",
      "Subsititute ('W', 47) with E\n",
      "Subsititute ('M', 45) with K\n",
      "Subsititute ('R', 44) with H\n",
      "Subsititute ('A', 43) with P\n",
      "Subsititute ('N', 42) with M\n",
      "Subsititute ('F', 40) with W\n",
      "Subsititute ('A', 39) with Y\n",
      "Subsititute ('A', 38) with E\n",
      "Add F between ('T', 37) and ('A', 38)\n",
      "Add K between ('T', 37) and ('A', 38)\n",
      "Subsititute ('E', 36) with M\n",
      "Subsititute ('S', 35) with L\n",
      "Delete ('G', 34)\n",
      "Delete ('G', 33)\n",
      "Add T between ('A', 29) and ('I', 30)\n",
      "Add A between ('A', 29) and ('I', 30)\n",
      "Add V between ('A', 29) and ('I', 30)\n",
      "Add E between ('A', 29) and ('I', 30)\n",
      "Add F between ('A', 29) and ('I', 30)\n",
      "Add E between ('A', 29) and ('I', 30)\n",
      "Add F between ('A', 29) and ('I', 30)\n",
      "Add G between ('A', 29) and ('I', 30)\n",
      "Add A between ('A', 29) and ('I', 30)\n",
      "Add H between ('P', 28) and ('A', 29)\n",
      "Add L between ('P', 28) and ('A', 29)\n",
      "Add H between ('P', 28) and ('A', 29)\n",
      "Add Y between ('P', 28) and ('A', 29)\n",
      "Add L between ('P', 28) and ('A', 29)\n",
      "Subsititute ('V', 27) with L\n",
      "Add L between ('I', 26) and ('V', 27)\n",
      "Add T between ('I', 26) and ('V', 27)\n",
      "Add E between ('I', 26) and ('V', 27)\n",
      "Subsititute ('S', 25) with P\n",
      "Subsititute ('R', 24) with H\n",
      "Subsititute ('F', 23) with N\n",
      "Add G between ('T', 22) and ('F', 23)\n",
      "Subsititute ('D', 21) with S\n",
      "Subsititute ('P', 19) with L\n",
      "Add K between ('D', 18) and ('P', 19)\n",
      "Add G between ('D', 18) and ('P', 19)\n",
      "Add N between ('D', 18) and ('P', 19)\n",
      "Subsititute ('A', 17) with T\n",
      "Subsititute ('W', 16) with P\n",
      "Add Y between ('D', 14) and ('L', 15)\n",
      "Add R between ('D', 14) and ('L', 15)\n",
      "Add E between ('D', 14) and ('L', 15)\n",
      "Add A between ('A', 13) and ('D', 14)\n",
      "Subsititute ('F', 12) with I\n",
      "Add V between ('P', 11) and ('F', 12)\n",
      "Add L between ('P', 11) and ('F', 12)\n",
      "Add I between ('P', 11) and ('F', 12)\n",
      "Add K between ('P', 11) and ('F', 12)\n",
      "Add H between ('P', 11) and ('F', 12)\n",
      "Add K between ('P', 11) and ('F', 12)\n",
      "Add G between ('P', 11) and ('F', 12)\n",
      "Add R between ('P', 11) and ('F', 12)\n",
      "Add Y between ('P', 11) and ('F', 12)\n",
      "Add P between ('P', 11) and ('F', 12)\n",
      "Add K between ('P', 11) and ('F', 12)\n",
      "Add Y between ('D', 10) and ('P', 11)\n",
      "Add D between ('D', 10) and ('P', 11)\n",
      "Add V between ('D', 10) and ('P', 11)\n",
      "Add G between ('D', 10) and ('P', 11)\n",
      "Add D between ('D', 10) and ('P', 11)\n",
      "Add L between ('D', 10) and ('P', 11)\n",
      "Subsititute ('F', 9) with S\n",
      "Subsititute ('N', 7) with P\n",
      "Add S between ('S', 6) and ('N', 7)\n",
      "Add T between ('S', 6) and ('N', 7)\n",
      "Add Y between ('S', 6) and ('N', 7)\n",
      "Add Q between ('S', 6) and ('N', 7)\n",
      "Add S between ('S', 6) and ('N', 7)\n",
      "Add L between ('S', 6) and ('N', 7)\n",
      "Add S between ('S', 6) and ('N', 7)\n",
      "Add Y between ('S', 6) and ('N', 7)\n",
      "Add E between ('S', 6) and ('N', 7)\n",
      "Subsititute ('R', 5) with P\n",
      "Subsititute ('R', 4) with F\n",
      "Subsititute ('V', 3) with F\n",
      "Add A between ('I', 2) and ('V', 3)\n",
      "Add N between ('I', 2) and ('V', 3)\n",
      "Add D between ('I', 2) and ('V', 3)\n",
      "Add E between ('I', 2) and ('V', 3)\n",
      "Add A between ('I', 2) and ('V', 3)\n",
      "Add D between ('S', 1) and ('I', 2)\n",
      "Add V between ('S', 1) and ('I', 2)\n",
      "Add Q between ('S', 1) and ('I', 2)\n",
      "Add P between ('S', 1) and ('I', 2)\n",
      "Add N between ('S', 1) and ('I', 2)\n",
      "Add K between ('S', 1) and ('I', 2)\n",
      "Subsititute ('M', 0) with T\n"
     ]
    }
   ],
   "source": [
    "%time\n",
    "get_alignment(A,B,ed_dp(A,B)[1])"
   ]
  },
  {
   "cell_type": "code",
   "execution_count": 231,
   "metadata": {},
   "outputs": [
    {
     "name": "stdout",
     "output_type": "stream",
     "text": [
      "No of Changes 3.0\n",
      "Subsititute ('n', 2) with r\n",
      "Add t between ('S', 0) and ('u', 1)\n",
      "Add a between ('S', 0) and ('u', 1)\n"
     ]
    }
   ],
   "source": [
    "get_alignment('Sunday','Saturday',ed_dp('Sunday','Saturday')[1])"
   ]
  },
  {
   "cell_type": "markdown",
   "metadata": {},
   "source": [
    "# Levenshtein Distance"
   ]
  },
  {
   "cell_type": "code",
   "execution_count": null,
   "metadata": {},
   "outputs": [],
   "source": [
    "def ed_recursive(A,B,i,j):\n",
    "    \"\"\"Python Implementation based on Levenshtein Algorithm\"\"\""
   ]
  }
 ],
 "metadata": {
  "kernelspec": {
   "display_name": "Python 3",
   "language": "python",
   "name": "python3"
  },
  "language_info": {
   "codemirror_mode": {
    "name": "ipython",
    "version": 3
   },
   "file_extension": ".py",
   "mimetype": "text/x-python",
   "name": "python",
   "nbconvert_exporter": "python",
   "pygments_lexer": "ipython3",
   "version": "3.8.5"
  }
 },
 "nbformat": 4,
 "nbformat_minor": 4
}
